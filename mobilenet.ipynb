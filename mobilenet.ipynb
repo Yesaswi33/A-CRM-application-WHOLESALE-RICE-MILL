{
  "nbformat": 4,
  "nbformat_minor": 0,
  "metadata": {
    "colab": {
      "private_outputs": true,
      "provenance": [],
      "gpuType": "T4",
      "authorship_tag": "ABX9TyMqotL83hxE60SZLFcftAHY",
      "include_colab_link": true
    },
    "kernelspec": {
      "name": "python3",
      "display_name": "Python 3"
    },
    "language_info": {
      "name": "python"
    },
    "accelerator": "GPU"
  },
  "cells": [
    {
      "cell_type": "markdown",
      "metadata": {
        "id": "view-in-github",
        "colab_type": "text"
      },
      "source": [
        "<a href=\"https://colab.research.google.com/github/Yesaswi33/A-CRM-application-WHOLESALE-RICE-MILL/blob/main/mobilenet.ipynb\" target=\"_parent\"><img src=\"https://colab.research.google.com/assets/colab-badge.svg\" alt=\"Open In Colab\"/></a>"
      ]
    },
    {
      "cell_type": "code",
      "source": [
        "# === STEP 0: Mount Drive & List Files ===\n",
        "from google.colab import drive\n",
        "drive.mount('/content/drive')\n",
        "\n",
        "BASE_DRIVE_PATH = '/content/drive/MyDrive/Mobilenet'\n",
        "!ls \"{BASE_DRIVE_PATH}\"\n",
        "\n",
        "# Look for train/valid folders and tfrecords:\n",
        "!find \"{BASE_DRIVE_PATH}\" -maxdepth 2 -type f | grep \".tfrecord\" || true\n"
      ],
      "metadata": {
        "id": "XU3vwHY9QwFc"
      },
      "execution_count": null,
      "outputs": []
    },
    {
      "cell_type": "code",
      "source": [
        "# === STEP 1: Clone TF Models & Install Dependencies ===\n",
        "!git clone --depth 1 https://github.com/tensorflow/models.git /content/models\n",
        "!pip install -q tf_slim\n",
        "!apt-get install -qq protobuf-compiler python3-dev\n",
        "!cd /content/models/research && protoc object_detection/protos/*.proto --python_out=.\n",
        "!cp /content/models/research/object_detection/packages/tf2/setup.py /content/models/research/\n",
        "!cd /content/models/research && python3 -m pip install .\n",
        "!python3 /content/models/research/object_detection/builders/model_builder_tf2_test.py\n"
      ],
      "metadata": {
        "id": "-FG5A6BiUr6K"
      },
      "execution_count": null,
      "outputs": []
    },
    {
      "cell_type": "code",
      "source": [
        "# === STEP 2: Create label_map.pbtxt ===\n",
        "class_names = [\n",
        "  \"allam_pachadi\", \"ariselu\", \"badam\", \"bagara_rice\", \"banana\",\n",
        "  \"beerakaya_ridge_gourd_curry\", \"beetroot_curry\", \"bendakaya_fry\",\n",
        "  \"biryani\", \"bonda\", \"carrot_fry\", \"cashew\", \"chapati\",\n",
        "  \"cheapla_pulusu\", \"chegodilu\", \"chintapandu_pulihora\", \"chole\",\n",
        "  \"coconut_chutney\", \"curd_rice_perugu_annam\", \"dondaka_curry\",\n",
        "  \"dosa_minapattu\", \"egg\", \"fish_fry\", \"fresh_guavas\", \"garelu\",\n",
        "  \"grapes\", \"idli\", \"jaggery_based_sweets\", \"jeera_rice\",\n",
        "  \"kodi_pulusu\", \"laddoo\", \"mangoes\", \"milk\", \"mirapakaya_bajji\",\n",
        "  \"mulakkaya_curry_drumsticks\", \"mutton_curry\", \"natu_ravva_upma\",\n",
        "  \"nimmakaya_pulihora\", \"oranges\", \"palak_paneer\", \"palakura_pappu\",\n",
        "  \"paneer\", \"paneer_curry\", \"papayas\", \"perugu\", \"pesarattu\",\n",
        "  \"pistha\", \"poha\", \"pomegranates\", \"poori\", \"potato_curry\",\n",
        "  \"potato_fry\", \"prawns_curry\", \"ragi_java\", \"rajma_curry\",\n",
        "  \"rice\", \"sambar\", \"sambar_idli\", \"samosa\", \"thota_kura\",\n",
        "  \"thota_kura_pappu\", \"tomato_pachadi\", \"tomato_pappu\", \"upma\",\n",
        "  \"uthappam\"\n",
        "]\n",
        "\n",
        "label_map_path = f\"{BASE_DRIVE_PATH}/label_map.pbtxt\"\n",
        "with open(label_map_path, \"w\") as f:\n",
        "    for idx, name in enumerate(class_names, start=1):\n",
        "        f.write(f\"item {{\\n  id: {idx}\\n  name: '{name}'\\n}}\\n\\n\")\n",
        "print(\"Label map saved to:\", label_map_path)\n"
      ],
      "metadata": {
        "id": "TDgTFY-cVD3w"
      },
      "execution_count": null,
      "outputs": []
    },
    {
      "cell_type": "code",
      "source": [
        "# STEP 2: Create the destination directory in your Drive\n",
        "!mkdir -p /content/drive/MyDrive/Mobilenet\n",
        "\n",
        "# STEP 3: Download the pretrained model into your Drive\n",
        "!wget -c \"http://download.tensorflow.org/models/object_detection/tf2/20200711/ssd_mobilenet_v2_fpnlite_320x320_coco17_tpu-8.tar.gz\" \\\n",
        "    -O /content/drive/MyDrive/Mobilenet/ssd_mobilenet_v2_fpnlite_320x320_coco17_tpu-8.tar.gz\n",
        "\n",
        "# STEP 4: Extract directly into the folder\n",
        "!tar -xzf /content/drive/MyDrive/Mobilenet/ssd_mobilenet_v2_fpnlite_320x320_coco17_tpu-8.tar.gz \\\n",
        "    -C /content/drive/MyDrive/Mobilenet/\n",
        "\n",
        "# STEP 5: Confirm it worked\n",
        "import os\n",
        "path = \"/content/drive/MyDrive/Mobilenet/ssd_mobilenet_v2_fpnlite_320x320_coco17_tpu-8\"\n",
        "print(\"✅ Model folder exists:\", os.path.exists(path))\n"
      ],
      "metadata": {
        "id": "Pv_hbfdygMMM"
      },
      "execution_count": null,
      "outputs": []
    },
    {
      "cell_type": "code",
      "source": [
        "import re\n",
        "\n",
        "# Paths to your files in Drive\n",
        "base_path = \"/content/drive/MyDrive/Mobilenet\"\n",
        "model_dir = f\"{base_path}/ssd_mobilenet_v2_fpnlite_320x320_coco17_tpu-8\"\n",
        "config_path = f\"{model_dir}/pipeline.config\"\n",
        "train_record = f\"{base_path}/train/objects-Indian-Dishes-fish-fry.tfrecord\"\n",
        "val_record = f\"{base_path}/valid/objects-Indian-Dishes-fish-fry.tfrecord\"\n",
        "label_map = f\"{base_path}/label_map.pbtxt\"\n",
        "checkpoint_path = f\"{model_dir}/checkpoint/ckpt-0\"\n",
        "\n",
        "# Number of classes\n",
        "class_names = [  # shortened list for readability\n",
        "    'allam_pachadi', 'ariselu', 'badam', 'bagara_rice', 'banana',\n",
        "    'beerakaya_ridge_gourd_curry', 'beetroot_curry', 'bendakaya_fry', 'biryani',\n",
        "    'bonda', 'carrot_fry', 'cashew', 'chapati', 'cheapla_pulusu', 'chegodilu',\n",
        "    'chintapandu_pulihora', 'chole', 'coconut_chutney', 'curd_rice_perugu_annam',\n",
        "    'dondaka_curry', 'dosa_minapattu', 'egg', 'fish_fry', 'fresh_guavas',\n",
        "    'garelu', 'grapes', 'idli', 'jaggery_based_sweets', 'jeera_rice', 'kodi_pulusu',\n",
        "    'laddoo', 'mangoes', 'milk', 'mirapakaya_bajji', 'mulakkaya_curry_drumsticks',\n",
        "    'mutton_curry', 'natu_ravva_upma', 'nimmakaya_pulihora', 'oranges',\n",
        "    'palak_paneer', 'palakura_pappu', 'paneer', 'paneer_curry', 'papayas',\n",
        "    'perugu', 'pesarattu', 'pistha', 'poha', 'pomegranates', 'poori',\n",
        "    'potato_curry', 'potato_fry', 'prawns_curry', 'ragi_java', 'rajma_curry',\n",
        "    'rice', 'sambar', 'sambar_idli', 'samosa', 'thota_kura', 'thota_kura_pappu',\n",
        "    'tomato_pachadi', 'tomato_pappu', 'upma', 'uthappam'\n",
        "]\n",
        "num_classes = len(class_names)\n",
        "\n",
        "# Modify pipeline.config\n",
        "with open(config_path, 'r') as file:\n",
        "    config = file.read()\n",
        "\n",
        "config = re.sub(r'num_classes: \\d+', f'num_classes: {num_classes}', config)\n",
        "config = re.sub(r'fine_tune_checkpoint: \".*?\"', f'fine_tune_checkpoint: \"{checkpoint_path}\"', config)\n",
        "config = re.sub(r'fine_tune_checkpoint_type: \"classification\"', 'fine_tune_checkpoint_type: \"detection\"', config)\n",
        "config = re.sub(r'input_path: \".*?\"', f'input_path: \"{train_record}\"', config, count=1)\n",
        "config = re.sub(r'input_path: \".*?\"', f'input_path: \"{val_record}\"', config)\n",
        "config = re.sub(r'label_map_path: \".*?\"', f'label_map_path: \"{label_map}\"', config)\n",
        "\n",
        "# Save updated config\n",
        "with open(config_path, 'w') as file:\n",
        "    file.write(config)\n",
        "\n",
        "print(\"✅ pipeline.config updated successfully.\")\n"
      ],
      "metadata": {
        "id": "_YCjcODBhuZ5"
      },
      "execution_count": null,
      "outputs": []
    },
    {
      "cell_type": "code",
      "source": [
        "!pip install -q tf-slim pycocotools\n",
        "!pip install -q tensorflow-object-detection-api\n"
      ],
      "metadata": {
        "id": "xGY1lF0XiBxW"
      },
      "execution_count": null,
      "outputs": []
    },
    {
      "cell_type": "code",
      "source": [
        "%cd /content\n",
        "!git clone https://github.com/tensorflow/models.git\n"
      ],
      "metadata": {
        "id": "16yKNOOaiGMg"
      },
      "execution_count": null,
      "outputs": []
    },
    {
      "cell_type": "code",
      "source": [
        "%cd /content/models/research/\n",
        "!protoc object_detection/protos/*.proto --python_out=.\n",
        "!cp object_detection/packages/tf2/setup.py .\n",
        "!python -m pip install .\n"
      ],
      "metadata": {
        "id": "BHyGAJnwiJ0z"
      },
      "execution_count": null,
      "outputs": []
    },
    {
      "cell_type": "code",
      "source": [
        "!python object_detection/builders/model_builder_tf2_test.py\n"
      ],
      "metadata": {
        "id": "b0LScXuRiNuC"
      },
      "execution_count": null,
      "outputs": []
    },
    {
      "cell_type": "code",
      "source": [
        "!python /content/models/research/object_detection/model_main_tf2.py \\\n",
        "  --model_dir=\"/content/drive/MyDrive/Mobilenet/output\" \\\n",
        "  --pipeline_config_path=\"/content/drive/MyDrive/Mobilenet/ssd_mobilenet_v2_fpnlite_320x320_coco17_tpu-8/pipeline.config\" \\\n",
        "  --num_train_steps=10000 \\\n",
        "  --sample_1_of_n_eval_examples=1 \\\n",
        "  --alsologtostderr\n"
      ],
      "metadata": {
        "id": "rHTY7vOliScW"
      },
      "execution_count": null,
      "outputs": []
    },
    {
      "cell_type": "code",
      "source": [
        "%load_ext tensorboard\n",
        "%tensorboard --logdir /content/drive/MyDrive/Mobilenet/output\n"
      ],
      "metadata": {
        "id": "EYQpE1xZihs1"
      },
      "execution_count": null,
      "outputs": []
    },
    {
      "cell_type": "code",
      "source": [
        "%cd /content/models/research\n",
        "!protoc object_detection/protos/*.proto --python_out=.\n"
      ],
      "metadata": {
        "id": "t-Ozc2tKonqp"
      },
      "execution_count": null,
      "outputs": []
    },
    {
      "cell_type": "code",
      "source": [
        "!cp object_detection/packages/tf2/setup.py .\n",
        "!pip install .\n"
      ],
      "metadata": {
        "id": "bVnRHNelopwh"
      },
      "execution_count": null,
      "outputs": []
    },
    {
      "cell_type": "code",
      "source": [
        "import os\n",
        "import tensorflow as tf\n",
        "from object_detection.utils import config_util\n",
        "from object_detection.builders import model_builder\n",
        "\n",
        "# Define paths\n",
        "pipeline_config_path = \"/content/drive/MyDrive/Mobilenet/ssd_mobilenet_v2_fpnlite_320x320_coco17_tpu-8/pipeline.config\"\n",
        "checkpoint_path = \"/content/drive/MyDrive/Mobilenet/output/checkpoint\"\n",
        "label_map_path = \"/content/drive/MyDrive/Mobilenet/label_map.pbtxt\"\n",
        "\n",
        "# Load pipeline config and build the detection model\n",
        "configs = config_util.get_configs_from_pipeline_file(pipeline_config_path)\n",
        "model_config = configs['model']\n",
        "detection_model = model_builder.build(model_config=model_config, is_training=False)\n",
        "\n",
        "# Restore checkpoint\n",
        "ckpt = tf.compat.v2.train.Checkpoint(model=detection_model)\n",
        "ckpt_path = os.path.join(checkpoint_path, 'ckpt-0')  # Make sure 'ckpt-0.index' exists\n",
        "ckpt.restore(ckpt_path).expect_partial()\n",
        "\n",
        "print(\"✅ Model loaded successfully from checkpoint!\")\n"
      ],
      "metadata": {
        "id": "l1cZGCSCmYXo"
      },
      "execution_count": null,
      "outputs": []
    },
    {
      "cell_type": "code",
      "source": [
        "from object_detection.utils import label_map_util\n",
        "from object_detection.utils import visualization_utils as viz_utils\n",
        "import numpy as np\n",
        "import cv2\n",
        "import matplotlib.pyplot as plt\n",
        "\n",
        "# Load label map\n",
        "category_index = label_map_util.create_category_index_from_labelmap(label_map_path)\n",
        "\n",
        "# Load and preprocess image\n",
        "image_path = \"/content/test_image.jpg\"  # replace with your image path\n",
        "image_np = cv2.imread(image_path)\n",
        "input_tensor = tf.convert_to_tensor(np.expand_dims(image_np, 0), dtype=tf.float32)\n",
        "\n",
        "# Run detection\n",
        "detections = detection_model(input_tensor)\n",
        "\n",
        "# Process output\n",
        "num_detections = int(detections.pop('num_detections'))\n",
        "detections = {k: v[0, :num_detections].numpy() for k, v in detections.items()}\n",
        "detections['num_detections'] = num_detections\n",
        "detections['detection_classes'] = detections['detection_classes'].astype(np.int64)\n",
        "\n",
        "# Visualize\n",
        "image_np_with_detections = image_np.copy()\n",
        "viz_utils.visualize_boxes_and_labels_on_image_array(\n",
        "    image_np_with_detections,\n",
        "    detections['detection_boxes'],\n",
        "    detections['detection_classes'],\n",
        "    detections['detection_scores'],\n",
        "    category_index,\n",
        "    use_normalized_coordinates=True,\n",
        "    min_score_thresh=0.4,\n",
        "    line_thickness=3\n",
        ")\n",
        "\n",
        "# Show image\n",
        "plt.figure(figsize=(10, 8))\n",
        "plt.imshow(cv2.cvtColor(image_np_with_detections, cv2.COLOR_BGR2RGB))\n",
        "plt.axis('off')\n",
        "plt.show()\n"
      ],
      "metadata": {
        "id": "0ZowyeBKmZCm"
      },
      "execution_count": null,
      "outputs": []
    }
  ]
}